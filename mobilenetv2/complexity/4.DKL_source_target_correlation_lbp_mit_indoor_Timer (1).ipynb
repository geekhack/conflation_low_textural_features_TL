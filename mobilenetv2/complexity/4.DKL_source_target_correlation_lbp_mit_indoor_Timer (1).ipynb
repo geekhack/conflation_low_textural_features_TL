{
 "cells": [
  {
   "cell_type": "code",
   "execution_count": 1,
   "metadata": {},
   "outputs": [
    {
     "name": "stdout",
     "output_type": "stream",
     "text": [
      "Requirement already satisfied: dictances in /usr/local/lib/python3.6/dist-packages (1.5.3)\n",
      "\u001b[33mWARNING: You are using pip version 20.2.4; however, version 21.3.1 is available.\n",
      "You should consider upgrading via the '/usr/bin/python3 -m pip install --upgrade pip' command.\u001b[0m\n",
      "Note: you may need to restart the kernel to use updated packages.\n"
     ]
    }
   ],
   "source": [
    "pip install dictances"
   ]
  },
  {
   "cell_type": "code",
   "execution_count": 2,
   "metadata": {},
   "outputs": [],
   "source": [
    "from __future__ import division\n",
    "import json\n",
    "import numpy as np\n",
    "from decimal import Decimal\n",
    "from numpy import expand_dims, array, exp, max\n",
    "import scipy\n",
    "from scipy.special import rel_entr\n",
    "import csv\n",
    "import statistics\n",
    "from numpy import expand_dims, array, exp, max\n",
    "import math\n",
    "from scipy.spatial import distance\n",
    "from scipy.stats import wasserstein_distance"
   ]
  },
  {
   "cell_type": "code",
   "execution_count": null,
   "metadata": {},
   "outputs": [],
   "source": []
  },
  {
   "cell_type": "code",
   "execution_count": 3,
   "metadata": {},
   "outputs": [],
   "source": [
    "from numpy.linalg import norm\n",
    "from dictances import bhattacharyya, bhattacharyya_coefficient"
   ]
  },
  {
   "cell_type": "code",
   "execution_count": 4,
   "metadata": {},
   "outputs": [],
   "source": [
    "# import the timeit module\n",
    "import timeit\n",
    "import math\n",
    "import tracemalloc"
   ]
  },
  {
   "cell_type": "code",
   "execution_count": 5,
   "metadata": {},
   "outputs": [],
   "source": [
    "def hellinger_fast(p, q):\n",
    "    \"\"\"Hellinger distance between two discrete distributions.\n",
    "       In pure Python.\n",
    "       Fastest version.\n",
    "    \"\"\"\n",
    "    return sum([ (math.sqrt(p_i) - math.sqrt(q_i))**2 for p_i, q_i in zip(p,q) ])"
   ]
  },
  {
   "cell_type": "code",
   "execution_count": 6,
   "metadata": {},
   "outputs": [],
   "source": [
    "# to suppress division errors\n",
    "np.seterr(divide='ignore', invalid='ignore')\n",
    "new_final_source_array = []"
   ]
  },
  {
   "cell_type": "code",
   "execution_count": 7,
   "metadata": {},
   "outputs": [],
   "source": [
    "# Opening final JSON files\n",
    "contrast_source_data = open('../../../files/mobilenetv2/glcm/source_domain_data_new_correlation_glcm.json')\n",
    "\n",
    "#for target data\n",
    "contrast_target_data = open('../../../files/mobilenetv2/glcm/stanford/stanford_domain_data_new_correlation_glcm.json')"
   ]
  },
  {
   "cell_type": "code",
   "execution_count": 8,
   "metadata": {},
   "outputs": [],
   "source": [
    "# returns JSON object\n",
    "contrast_source_data_d = json.load(contrast_source_data)\n",
    "\n",
    "contrast_target_data_d = json.load(contrast_target_data)"
   ]
  },
  {
   "cell_type": "code",
   "execution_count": 9,
   "metadata": {},
   "outputs": [],
   "source": [
    "# kdl dictionary\n",
    "kdl_dictionary = {}"
   ]
  },
  {
   "cell_type": "code",
   "execution_count": 10,
   "metadata": {},
   "outputs": [],
   "source": [
    "def KL(p, q):\n",
    "    a = []\n",
    "    b = []\n",
    "    for k in p:\n",
    "        a.append(Decimal(k))\n",
    "\n",
    "    for l in q:\n",
    "        b.append(Decimal(l))\n",
    "\n",
    "    a = np.asarray(a, dtype=np.float64)\n",
    "    b = np.asarray(b, dtype=np.float64)\n",
    "\n",
    "    return np.sum(np.where(((a != 0) & (b != 0)), a * np.log(a / b), 0))"
   ]
  },
  {
   "cell_type": "code",
   "execution_count": 11,
   "metadata": {},
   "outputs": [],
   "source": [
    "def softMax(temperature, features_list):\n",
    "    feat_list = [x / temperature for x in features_list]\n",
    "    feature_list = exp(feat_list - max(feat_list))\n",
    "    return feature_list / feature_list.sum(axis=0)"
   ]
  },
  {
   "cell_type": "code",
   "execution_count": 12,
   "metadata": {},
   "outputs": [],
   "source": [
    "# get the data for the contrast target image\n",
    "contrast_target_data_array = []\n",
    "for p in range(0, len(contrast_target_data_d['target_images'])):\n",
    "    for i, j in contrast_target_data_d['target_images'][p].items():\n",
    "        contrast_target_data_array.append((i,np.array(j)))\n",
    "contrast_target_data.close()"
   ]
  },
  {
   "cell_type": "code",
   "execution_count": 13,
   "metadata": {},
   "outputs": [
    {
     "name": "stdout",
     "output_type": "stream",
     "text": [
      "1568\n"
     ]
    }
   ],
   "source": [
    "print(len(contrast_target_data_array))"
   ]
  },
  {
   "cell_type": "code",
   "execution_count": 33,
   "metadata": {},
   "outputs": [
    {
     "name": "stdout",
     "output_type": "stream",
     "text": [
      " execution time:- 7.157638385891914\n",
      " memory 12262\n"
     ]
    }
   ],
   "source": [
    "###contrast comparison code\n",
    "contrast_All_Images = []\n",
    "contrast_average_dkl = []\n",
    "\n",
    "#check the timer_start\n",
    "start_bhattacharyya = timeit.default_timer()\n",
    "#check memory consumption\n",
    "# starting the monitoring\n",
    "tracemalloc.start()\n",
    "\n",
    "for x in contrast_target_data_array[:2]:\n",
    "#for x in target_data_array:\n",
    "    t_images_btween_0_05 = []\n",
    "    t_images_btween_05_1 = []\n",
    "    t_images_btween_1_2 = []\n",
    "    t_images_grt_2_5 = []\n",
    "    t_images_grt_5_10 = []\n",
    "    t_images_grt_10 = []\n",
    "    \n",
    "    image_name_class =  x[0].split('_/') #name[0]; class[1]\n",
    "    compare_min_max = []\n",
    "    \n",
    "    \n",
    "            \n",
    "    # get the data for the source images\n",
    "    for m in range(0, len(contrast_source_data_d['source_images'])):\n",
    "        #print(\"source\",source_data_d['source_images'][m][0])\n",
    "        for k, v in contrast_source_data_d['source_images'][m].items():\n",
    "            # compare the value of v with that of the target image\n",
    "            # if 'caterpillar' in k.lower():\n",
    "            # remove the zeros from the list\n",
    "            new_v = np.array(v).flatten()\n",
    "            #get the top items in x\n",
    "            items = np.sort(x[1])\n",
    "            item_size = items[-len(new_v):]\n",
    "            new_x = item_size.flatten()\n",
    "            \n",
    "            new_d = softMax(0.5, new_x)     \n",
    "            new_y = softMax(0.5, new_v)\n",
    "            \n",
    "            kdl = rel_entr( new_x, new_v, out=None)\n",
    "            new_bhattacharyya = bhattacharyya(dict(enumerate(new_x.flatten(), 1)),dict(enumerate(new_v.flatten(), 1)) )\n",
    "            new_wasserstein = wasserstein_distance(new_x,new_v)\n",
    "            new_jensen = distance.jensenshannon(new_x,new_v)\n",
    "            new_hellinger = hellinger_fast(new_x,new_v)\n",
    "            \n",
    "            compare_min_max.append((image_name_class[0],image_name_class[1],k, max(new_bhattacharyya)))\n",
    "            \n",
    "contrast_All_Images.append(compare_min_max)\n",
    "    \n",
    "contrast_source_data.close()\n",
    "\n",
    "#stop the execution\n",
    "stop_bhattacharyya = timeit.default_timer()\n",
    "execution_time = stop_bhattacharyya - start_bhattacharyya\n",
    "print(\" execution time:-\", execution_time)\n",
    "\n",
    "# displaying the memory\n",
    "print(\" memory\",tracemalloc.get_traced_memory()[1]-tracemalloc.get_traced_memory()[0])\n",
    " \n",
    "# stopping the library\n",
    "tracemalloc.stop()\n"
   ]
  },
  {
   "cell_type": "code",
   "execution_count": null,
   "metadata": {},
   "outputs": [],
   "source": []
  },
  {
   "cell_type": "code",
   "execution_count": null,
   "metadata": {},
   "outputs": [],
   "source": []
  }
 ],
 "metadata": {
  "kernelspec": {
   "display_name": "Python 3",
   "language": "python",
   "name": "python3"
  },
  "language_info": {
   "codemirror_mode": {
    "name": "ipython",
    "version": 3
   },
   "file_extension": ".py",
   "mimetype": "text/x-python",
   "name": "python",
   "nbconvert_exporter": "python",
   "pygments_lexer": "ipython3",
   "version": "3.6.9"
  }
 },
 "nbformat": 4,
 "nbformat_minor": 2
}
